{
  "nbformat": 4,
  "nbformat_minor": 0,
  "metadata": {
    "colab": {
      "provenance": [],
      "authorship_tag": "ABX9TyM6x6q7T/duVfa9yJMdPKAi",
      "include_colab_link": true
    },
    "kernelspec": {
      "name": "python3",
      "display_name": "Python 3"
    },
    "language_info": {
      "name": "python"
    }
  },
  "cells": [
    {
      "cell_type": "markdown",
      "metadata": {
        "id": "view-in-github",
        "colab_type": "text"
      },
      "source": [
        "<a href=\"https://colab.research.google.com/github/valdineisaugo/Cadastro_JavaFx/blob/master/Untitled6.ipynb\" target=\"_parent\"><img src=\"https://colab.research.google.com/assets/colab-badge.svg\" alt=\"Open In Colab\"/></a>"
      ]
    },
    {
      "cell_type": "code",
      "execution_count": 1,
      "metadata": {
        "colab": {
          "base_uri": "https://localhost:8080/"
        },
        "id": "nthwtDgciik1",
        "outputId": "7984be8c-96c3-4433-9d7b-b77641e8b10c"
      },
      "outputs": [
        {
          "output_type": "stream",
          "name": "stdout",
          "text": [
            "Hello, world!\n"
          ]
        }
      ],
      "source": [
        "# prompt:\n",
        "\n",
        "# This code snippet has no preceding code, so it can be any valid Python code.\n",
        "# For example, you could print a message:\n",
        "\n",
        "print(\"Hello, world!\")\n",
        "\n",
        "# Or you could define a function:\n",
        "\n",
        "def my_function():\n",
        "  return \"Hello, world!\"\n",
        "\n",
        "# Or you could import a library:\n",
        "\n",
        "import pandas as pd\n",
        "\n",
        "# The possibilities are endless!\n"
      ]
    }
  ]
}